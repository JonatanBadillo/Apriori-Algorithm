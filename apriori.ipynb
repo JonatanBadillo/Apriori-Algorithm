{
 "cells": [
  {
   "cell_type": "code",
   "execution_count": 1,
   "id": "504fd324",
   "metadata": {},
   "outputs": [
    {
     "name": "stdout",
     "output_type": "stream",
     "text": [
      "Requirement already satisfied: efficient-apriori in /Users/jonatanbadillo/anaconda3/lib/python3.11/site-packages (2.0.3)\r\n"
     ]
    }
   ],
   "source": [
    "!pip install efficient-apriori "
   ]
  },
  {
   "cell_type": "code",
   "execution_count": 11,
   "id": "f66f36e2",
   "metadata": {},
   "outputs": [
    {
     "name": "stdout",
     "output_type": "stream",
     "text": [
      "{GOMA} -> {BORRADOR} (conf: 0.444, supp: 0.286, lift: 1.244, conv: 1.157)\n",
      "{BORRADOR} -> {GOMA} (conf: 0.800, supp: 0.286, lift: 1.244, conv: 1.786)\n",
      "{LAPICES} -> {BORRADOR} (conf: 0.400, supp: 0.143, lift: 1.120, conv: 1.071)\n",
      "{BORRADOR} -> {LAPICES} (conf: 0.400, supp: 0.143, lift: 1.120, conv: 1.071)\n",
      "{LIBRETA} -> {BORRADOR} (conf: 0.250, supp: 0.143, lift: 0.700, conv: 0.857)\n",
      "{BORRADOR} -> {LIBRETA} (conf: 0.400, supp: 0.143, lift: 0.700, conv: 0.714)\n",
      "{PLUMONES} -> {BORRADOR} (conf: 0.429, supp: 0.214, lift: 1.200, conv: 1.125)\n",
      "{BORRADOR} -> {PLUMONES} (conf: 0.600, supp: 0.214, lift: 1.200, conv: 1.250)\n",
      "{LAPICES} -> {GOMA} (conf: 0.600, supp: 0.214, lift: 0.933, conv: 0.893)\n",
      "{GOMA} -> {LAPICES} (conf: 0.333, supp: 0.214, lift: 0.933, conv: 0.964)\n"
     ]
    }
   ],
   "source": [
    "from efficient_apriori import apriori\n",
    "\n",
    "transacciones = [\n",
    "    (\"LIBRETA\", \"LAPICES\", \"BORRADOR\", \"PLUMONES\"),\n",
    "    (\"GOMA\", \"REGLA\", \"LAPICES\", \"PLUMAS\"),\n",
    "    (\"LIBRETA\", \"POST-IT\", \"PLUMONES\"),\n",
    "    (\"PLUMONES\", \"BORRADOR\", \"GOMA\", \"POST-IT\"),\n",
    "    (\"POST-IT\", \"LIBRETA\", \"GOMA\"),\n",
    "    (\"PLUMONES\", \"PLUMAS\"),\n",
    "    (\"REGLA\", \"PLUMAS\", \"LAPICES\", \"GOMA\", \"BORRADOR\"),\n",
    "    (\"BORRADOR\", \"PLUMONES\", \"GOMA\"),\n",
    "    (\"POST-IT\", \"LIBRETA\", \"GOMA\", \"REGLA\"),\n",
    "    (\"GOMA\", \"BORRADOR\", \"LIBRETA\"),\n",
    "    (\"LAPICES\", \"PLUMAS\", \"GOMA\", \"POST-IT\", \"REGLA\"),\n",
    "    (\"PLUMAS\", \"LIBRETA\", \"GOMA\"),\n",
    "    (\"PLUMONES\", \"POST-IT\", \"LIBRETA\"),\n",
    "    (\"LIBRETA\", \"REGLA\", \"LAPICES\", \"PLUMONES\")\n",
    "]\n",
    "\n",
    "conjuntos, reglas = apriori(transacciones, min_support=0.1, min_confidence=0.1)\n",
    "\n",
    "# Filtrar y mostrar al menos 10 reglas de asociación distintas\n",
    "contador_reglas = 0\n",
    "for regla in reglas:\n",
    "    if len(regla.rhs) == 1 and contador_reglas < 10:\n",
    "        print(regla)\n",
    "        contador_reglas += 1\n",
    "    if contador_reglas == 10:\n",
    "        break\n"
   ]
  },
  {
   "cell_type": "code",
   "execution_count": null,
   "id": "62f71631",
   "metadata": {},
   "outputs": [],
   "source": []
  }
 ],
 "metadata": {
  "kernelspec": {
   "display_name": "Python 3 (ipykernel)",
   "language": "python",
   "name": "python3"
  },
  "language_info": {
   "codemirror_mode": {
    "name": "ipython",
    "version": 3
   },
   "file_extension": ".py",
   "mimetype": "text/x-python",
   "name": "python",
   "nbconvert_exporter": "python",
   "pygments_lexer": "ipython3",
   "version": "3.11.5"
  }
 },
 "nbformat": 4,
 "nbformat_minor": 5
}
