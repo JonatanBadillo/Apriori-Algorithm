{
 "cells": [
  {
   "cell_type": "markdown",
   "id": "4ffa972f",
   "metadata": {},
   "source": [
    "# Algoritmo Apriori"
   ]
  },
  {
   "cell_type": "markdown",
   "id": "175e8cb8",
   "metadata": {},
   "source": [
    "Utilizaremos este comando para instalar el paquete `efficient-apriori` desde el repositorio de PyPI (Python Package Index). Este comando instalará la biblioteca `efficient-apriori`, que proporciona una implementación eficiente del algoritmo Apriori en Python.\n",
    "\n",
    "Después de ejecutar esta celda, importaremos y utilizaremos el paquete `efficient-apriori` en las siguientes celdas de código para realizar tareas relacionadas con la minería de datos utilizando el algoritmo Apriori."
   ]
  },
  {
   "cell_type": "code",
   "execution_count": 1,
   "id": "504fd324",
   "metadata": {},
   "outputs": [
    {
     "name": "stdout",
     "output_type": "stream",
     "text": [
      "Requirement already satisfied: efficient-apriori in /Users/jonatanbadillo/anaconda3/lib/python3.11/site-packages (2.0.3)\r\n"
     ]
    }
   ],
   "source": [
    "!pip install efficient-apriori "
   ]
  },
  {
   "cell_type": "markdown",
   "id": "c486b25b",
   "metadata": {},
   "source": [
    "**Importación de la función apriori desde la librería efficient_apriori**:Esta línea importa la función `apriori` desde la librería `efficient_apriori`, lo que nos permite utilizarla en nuestro código para aplicar el algoritmo Apriori.\n",
    "\n",
    "   **Definición de las transacciones**:Aquí se define una lista llamada `transacciones`, donde cada elemento de la lista es una tupla que representa una transacción. Cada transacción contiene los elementos comprados en esa transacción.\n"
   ]
  },
  {
   "cell_type": "code",
   "execution_count": 75,
   "id": "f66f36e2",
   "metadata": {},
   "outputs": [],
   "source": [
    "# Importamos la función apriori desde la librería efficient_apriori\n",
    "from efficient_apriori import apriori\n",
    "\n",
    "# Definimos las transacciones como una lista de tuplas, donde cada tupla representa una transacción\n",
    "transacciones = [\n",
    "    (\"LIBRETA\", \"LAPICES\", \"BORRADOR\", \"PLUMONES\"),\n",
    "    (\"GOMA\", \"REGLA\", \"LAPICES\", \"PLUMAS\"),\n",
    "    (\"LIBRETA\", \"POST-IT\", \"PLUMONES\"),\n",
    "    (\"PLUMONES\", \"BORRADOR\", \"GOMA\", \"POST-IT\"),\n",
    "    (\"POST-IT\", \"LIBRETA\", \"GOMA\"),\n",
    "    (\"PLUMONES\", \"PLUMAS\"),\n",
    "    (\"REGLA\", \"PLUMAS\", \"LAPICES\", \"GOMA\", \"BORRADOR\"),\n",
    "    (\"BORRADOR\", \"PLUMONES\", \"GOMA\"),\n",
    "    (\"POST-IT\", \"LIBRETA\", \"GOMA\", \"REGLA\"),\n",
    "    (\"GOMA\", \"BORRADOR\", \"LIBRETA\"),\n",
    "    (\"LAPICES\", \"PLUMAS\", \"GOMA\", \"POST-IT\", \"REGLA\"),\n",
    "    (\"PLUMAS\", \"LIBRETA\", \"GOMA\"),\n",
    "    (\"PLUMONES\", \"POST-IT\", \"LIBRETA\"),\n",
    "    (\"LIBRETA\", \"REGLA\", \"LAPICES\", \"PLUMONES\")\n",
    "]"
   ]
  },
  {
   "cell_type": "markdown",
   "id": "4df6357a",
   "metadata": {},
   "source": [
    "Ahora en el siguiente fragmento de codigo se aplica:\n",
    "1. **Aplicación del algoritmo Apriori**:\n",
    "   Se utiliza para encontrar conjuntos de ítems frecuentes y reglas de asociación en las transacciones, con un soporte mínimo del 35% y una confianza mínima del 35%.\n",
    "\n",
    "2. **Filtrado y visualización de reglas de asociación**:\n",
    "   Se recorren las reglas generadas y se imprimen solo aquellas que tienen un solo elemento en el lado derecho (consecuente). Esto ayuda a identificar relaciones más simples entre los ítems.\n",
    "\n",
    "Este proceso permite identificar y mostrar reglas de asociación significativas entre los ítems en las transacciones."
   ]
  },
  {
   "cell_type": "code",
   "execution_count": 88,
   "id": "ce526259",
   "metadata": {},
   "outputs": [
    {
     "name": "stdout",
     "output_type": "stream",
     "text": [
      "No se encontro alguna regla con las condiciones establecidas\n"
     ]
    }
   ],
   "source": [
    "# Utilizamos la función apriori para generar conjuntos de ítems frecuentes y reglas de asociación\n",
    "# Aplicando que la regla de asosiacion con soporte y confianza de al menos 35%\n",
    "conjuntos, reglas = apriori(transacciones, min_support=0.35, min_confidence=0.35)\n",
    "\n",
    "contador = 0 \n",
    "# Filtramos y mostramos\n",
    "for regla in reglas:\n",
    "    # Verificamos si la regla tiene un solo elemento en el consecuente\n",
    "    if len(regla.rhs) == 1:\n",
    "        # Imprimimos la regla de asociación\n",
    "        print(regla)\n",
    "        contador = contador+1\n",
    "if(contador==0):\n",
    "    print(\"No se encontro alguna regla con las condiciones establecidas\")"
   ]
  },
  {
   "cell_type": "markdown",
   "id": "c38e7496",
   "metadata": {},
   "source": [
    "El algoritmo Apriori puede no encontrar ninguna regla de asociación si el soporte y la confianza mínimos son demasiado altos para el conjunto de datos dado. En este caso fue asi, parece que no hay ninguna regla de asociación con un soporte y una confianza de al menos 35% .\n",
    "\n",
    "Así que se trato de disminuir el soporte y la confianza mínimos para ver si el algoritmo puede encontrar alguna regla de asociación. Y nos dimos cuenta que el algoritmo responde con un soporte  mínimo de 28%"
   ]
  },
  {
   "cell_type": "code",
   "execution_count": 89,
   "id": "dd8bb24f",
   "metadata": {},
   "outputs": [
    {
     "name": "stdout",
     "output_type": "stream",
     "text": [
      "{GOMA} -> {BORRADOR} (conf: 0.444, supp: 0.286, lift: 1.244, conv: 1.157)\n",
      "{BORRADOR} -> {GOMA} (conf: 0.800, supp: 0.286, lift: 1.244, conv: 1.786)\n",
      "{LIBRETA} -> {GOMA} (conf: 0.500, supp: 0.286, lift: 0.778, conv: 0.714)\n",
      "{GOMA} -> {LIBRETA} (conf: 0.444, supp: 0.286, lift: 0.778, conv: 0.771)\n",
      "{PLUMAS} -> {GOMA} (conf: 0.800, supp: 0.286, lift: 1.244, conv: 1.786)\n",
      "{GOMA} -> {PLUMAS} (conf: 0.444, supp: 0.286, lift: 1.244, conv: 1.157)\n",
      "{POST-IT} -> {GOMA} (conf: 0.667, supp: 0.286, lift: 1.037, conv: 1.071)\n",
      "{GOMA} -> {POST-IT} (conf: 0.444, supp: 0.286, lift: 1.037, conv: 1.029)\n",
      "{REGLA} -> {GOMA} (conf: 0.800, supp: 0.286, lift: 1.244, conv: 1.786)\n",
      "{GOMA} -> {REGLA} (conf: 0.444, supp: 0.286, lift: 1.244, conv: 1.157)\n",
      "{REGLA} -> {LAPICES} (conf: 0.800, supp: 0.286, lift: 2.240, conv: 3.214)\n",
      "{LAPICES} -> {REGLA} (conf: 0.800, supp: 0.286, lift: 2.240, conv: 3.214)\n",
      "{PLUMONES} -> {LIBRETA} (conf: 0.571, supp: 0.286, lift: 1.000, conv: 1.000)\n",
      "{LIBRETA} -> {PLUMONES} (conf: 0.500, supp: 0.286, lift: 1.000, conv: 1.000)\n",
      "{POST-IT} -> {LIBRETA} (conf: 0.667, supp: 0.286, lift: 1.167, conv: 1.286)\n",
      "{LIBRETA} -> {POST-IT} (conf: 0.500, supp: 0.286, lift: 1.167, conv: 1.143)\n"
     ]
    }
   ],
   "source": [
    "# Utilizamos la función apriori para generar conjuntos de ítems frecuentes y reglas de asociación\n",
    "# Aplicando que la regla de asosiacion con soporte y confianza de al menos 35%\n",
    "conjuntos, reglas = apriori(transacciones, min_support=0.28, min_confidence=0.35)\n",
    "\n",
    "contador = 0 \n",
    "# Filtramos y mostramos\n",
    "for regla in reglas:\n",
    "    # Verificamos si la regla tiene un solo elemento en el consecuente\n",
    "    if len(regla.rhs) == 1:\n",
    "        # Imprimimos la regla de asociación\n",
    "        print(regla)\n",
    "        contador = contador+1\n",
    "if(contador==0):\n",
    "    print(\"No se encontro alguna regla con las condiciones establecidas\")"
   ]
  },
  {
   "cell_type": "markdown",
   "id": "a6e4d83c",
   "metadata": {},
   "source": [
    "En este caso pudimos encontrar 16 reglas que fueron:\n",
    "   * {GOMA} -> {BORRADOR} \n",
    "   * {BORRADOR} -> {GOMA} \n",
    "* {LIBRETA} -> {GOMA} \n",
    "* {GOMA} -> {LIBRETA} \n",
    "* {PLUMAS} -> {GOMA} \n",
    "* {GOMA} -> {PLUMAS} \n",
    "* {POST-IT} -> {GOMA} \n",
    "* {GOMA} -> {POST-IT} \n",
    "* {REGLA} -> {GOMA} \n",
    "* {GOMA} -> {REGLA} \n",
    "* {REGLA} -> {LAPICES} \n",
    "* {LAPICES} -> {REGLA} \n",
    "* {PLUMONES} -> {LIBRETA} \n",
    "* {LIBRETA} -> {PLUMONES} \n",
    "* {POST-IT} -> {LIBRETA} \n",
    "* {LIBRETA} -> {POST-IT} "
   ]
  },
  {
   "cell_type": "markdown",
   "id": "5affdfef",
   "metadata": {},
   "source": [
    "## Ahora como DataFrame\n",
    "Mostraremos las reglas obtenidas a traves de un DataFrame"
   ]
  },
  {
   "cell_type": "code",
   "execution_count": 99,
   "id": "a0577b91",
   "metadata": {},
   "outputs": [
    {
     "name": "stdout",
     "output_type": "stream",
     "text": [
      "    Antecedente Consecuente   Soporte  Confianza\n",
      "0       (GOMA,)    BORRADOR  0.285714   0.444444\n",
      "1   (BORRADOR,)        GOMA  0.285714   0.800000\n",
      "2    (LIBRETA,)        GOMA  0.285714   0.500000\n",
      "3       (GOMA,)     LIBRETA  0.285714   0.444444\n",
      "4     (PLUMAS,)        GOMA  0.285714   0.800000\n",
      "5       (GOMA,)      PLUMAS  0.285714   0.444444\n",
      "6    (POST-IT,)        GOMA  0.285714   0.666667\n",
      "7       (GOMA,)     POST-IT  0.285714   0.444444\n",
      "8      (REGLA,)        GOMA  0.285714   0.800000\n",
      "9       (GOMA,)       REGLA  0.285714   0.444444\n",
      "10     (REGLA,)     LAPICES  0.285714   0.800000\n",
      "11   (LAPICES,)       REGLA  0.285714   0.800000\n",
      "12  (PLUMONES,)     LIBRETA  0.285714   0.571429\n",
      "13   (LIBRETA,)    PLUMONES  0.285714   0.500000\n",
      "14   (POST-IT,)     LIBRETA  0.285714   0.666667\n",
      "15   (LIBRETA,)     POST-IT  0.285714   0.500000\n"
     ]
    }
   ],
   "source": [
    "import pandas as pd\n",
    "\n",
    "# Creamos una lista para almacenar las reglas\n",
    "reglas_lista = []\n",
    "\n",
    "# Filtramos y guardamos las reglas\n",
    "for regla in reglas:\n",
    "    if len(regla.rhs) == 1:\n",
    "        reglas_lista.append([regla.lhs, regla.rhs[0], regla.support, regla.confidence])\n",
    "\n",
    "# Si no se encontraron reglas que cumplan con las condiciones\n",
    "if not reglas_lista:\n",
    "    print(\"No se encontró alguna regla con las condiciones establecidas\")\n",
    "else:\n",
    "    # Creamos un DataFrame de pandas con las reglas\n",
    "    df_reglas = pd.DataFrame(reglas_lista, columns=['Antecedente', 'Consecuente', 'Soporte', 'Confianza'])\n",
    "    print(df_reglas)"
   ]
  }
 ],
 "metadata": {
  "kernelspec": {
   "display_name": "Python 3 (ipykernel)",
   "language": "python",
   "name": "python3"
  },
  "language_info": {
   "codemirror_mode": {
    "name": "ipython",
    "version": 3
   },
   "file_extension": ".py",
   "mimetype": "text/x-python",
   "name": "python",
   "nbconvert_exporter": "python",
   "pygments_lexer": "ipython3",
   "version": "3.11.5"
  }
 },
 "nbformat": 4,
 "nbformat_minor": 5
}
