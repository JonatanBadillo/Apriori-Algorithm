{
 "cells": [
  {
   "cell_type": "code",
   "execution_count": 1,
   "id": "5735178c",
   "metadata": {},
   "outputs": [
    {
     "name": "stdout",
     "output_type": "stream",
     "text": [
      "Requirement already satisfied: efficient-apriori in /Users/jonatanbadillo/anaconda3/lib/python3.11/site-packages (2.0.3)\r\n"
     ]
    }
   ],
   "source": [
    "!pip install efficient-apriori "
   ]
  },
  {
   "cell_type": "code",
   "execution_count": 9,
   "id": "1d12bf3a",
   "metadata": {},
   "outputs": [],
   "source": [
    "from efficient_apriori import apriori\n",
    "\n",
    "transacciones = [\n",
    "    (\"LIBRETA\", \"LAPICES\", \"BORRADOR\", \"PLUMONES\"),\n",
    "    (\"GOMA\", \"REGLA\", \"LAPICES\", \"PLUMAS\"),\n",
    "    (\"LIBRETA\", \"POST-IT\", \"PLUMONES\"),\n",
    "    (\"PLUMONES\", \"BORRADOR\", \"GOMA\", \"POST-IT\"),\n",
    "    (\"POST-IT\", \"LIBRETA\", \"GOMA\"),\n",
    "    (\"PLUMONES\", \"PLUMAS\"),\n",
    "    (\"REGLA\", \"PLUMAS\", \"LAPICES\", \"GOMAS\", \"BORRADOR\"),\n",
    "    (\"BORRADOR\", \"PLUMONES\", \"GOMA\"),\n",
    "    (\"POST-IT\", \"LIBRETA\", \"GOMA\", \"REGLA\"),\n",
    "    (\"GOMA\", \"BORRADOR\", \"LIBRETA\"),\n",
    "    (\"LAPICES\", \"PLUMAS\", \"GOMA\", \"POST-IT\", \"REGLA\"),\n",
    "    (\"PLUMAS\", \"LIBRETA\", \"GOMA\"),\n",
    "    (\"PLUMONES\", \"POST-IT\", \"LIBRETA\"),\n",
    "    (\"LIBRETA\", \"REGLA\", \"LAPICES\", \"PLUMONES\")\n",
    "]\n",
    "\n",
    "conjuntos, reglas = apriori(transacciones,\n",
    "                            min_support = 0.35,\n",
    "                            min_confidence = 0.35)\n",
    "\n",
    "# Filtrando reglas con consecuente de un elemento\n",
    "reglas = filter(lambda regla: len(regla.rhs) == 1, reglas)\n",
    "\n",
    "for regla in reglas:\n",
    "    print(regla)  "
   ]
  }
 ],
 "metadata": {
  "kernelspec": {
   "display_name": "Python 3 (ipykernel)",
   "language": "python",
   "name": "python3"
  },
  "language_info": {
   "codemirror_mode": {
    "name": "ipython",
    "version": 3
   },
   "file_extension": ".py",
   "mimetype": "text/x-python",
   "name": "python",
   "nbconvert_exporter": "python",
   "pygments_lexer": "ipython3",
   "version": "3.11.5"
  }
 },
 "nbformat": 4,
 "nbformat_minor": 5
}
