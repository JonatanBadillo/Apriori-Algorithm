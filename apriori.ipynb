{
 "cells": [
  {
   "cell_type": "code",
   "execution_count": 1,
   "id": "504fd324",
   "metadata": {},
   "outputs": [
    {
     "name": "stdout",
     "output_type": "stream",
     "text": [
      "Requirement already satisfied: efficient-apriori in /Users/jonatanbadillo/anaconda3/lib/python3.11/site-packages (2.0.3)\r\n"
     ]
    }
   ],
   "source": [
    "!pip install efficient-apriori "
   ]
  },
  {
   "cell_type": "code",
   "execution_count": 43,
   "id": "f66f36e2",
   "metadata": {},
   "outputs": [
    {
     "name": "stdout",
     "output_type": "stream",
     "text": [
      "{GOMA} -> {BORRADOR} (conf: 0.444, supp: 0.286, lift: 1.244, conv: 1.157)\n",
      "{BORRADOR} -> {GOMA} (conf: 0.800, supp: 0.286, lift: 1.244, conv: 1.786)\n",
      "{LAPICES} -> {BORRADOR} (conf: 0.400, supp: 0.143, lift: 1.120, conv: 1.071)\n",
      "{BORRADOR} -> {LAPICES} (conf: 0.400, supp: 0.143, lift: 1.120, conv: 1.071)\n",
      "{BORRADOR} -> {LIBRETA} (conf: 0.400, supp: 0.143, lift: 0.700, conv: 0.714)\n",
      "{PLUMONES} -> {BORRADOR} (conf: 0.429, supp: 0.214, lift: 1.200, conv: 1.125)\n",
      "{BORRADOR} -> {PLUMONES} (conf: 0.600, supp: 0.214, lift: 1.200, conv: 1.250)\n",
      "{LAPICES} -> {GOMA} (conf: 0.600, supp: 0.214, lift: 0.933, conv: 0.893)\n",
      "{GOMA} -> {LAPICES} (conf: 0.333, supp: 0.214, lift: 0.933, conv: 0.964)\n",
      "{LIBRETA} -> {GOMA} (conf: 0.500, supp: 0.286, lift: 0.778, conv: 0.714)\n",
      "{GOMA} -> {LIBRETA} (conf: 0.444, supp: 0.286, lift: 0.778, conv: 0.771)\n",
      "{PLUMAS} -> {GOMA} (conf: 0.800, supp: 0.286, lift: 1.244, conv: 1.786)\n",
      "{GOMA} -> {PLUMAS} (conf: 0.444, supp: 0.286, lift: 1.244, conv: 1.157)\n",
      "{POST-IT} -> {GOMA} (conf: 0.667, supp: 0.286, lift: 1.037, conv: 1.071)\n",
      "{GOMA} -> {POST-IT} (conf: 0.444, supp: 0.286, lift: 1.037, conv: 1.029)\n",
      "{REGLA} -> {GOMA} (conf: 0.800, supp: 0.286, lift: 1.244, conv: 1.786)\n",
      "{GOMA} -> {REGLA} (conf: 0.444, supp: 0.286, lift: 1.244, conv: 1.157)\n",
      "{LAPICES} -> {LIBRETA} (conf: 0.400, supp: 0.143, lift: 0.700, conv: 0.714)\n",
      "{PLUMAS} -> {LAPICES} (conf: 0.600, supp: 0.214, lift: 1.680, conv: 1.607)\n",
      "{LAPICES} -> {PLUMAS} (conf: 0.600, supp: 0.214, lift: 1.680, conv: 1.607)\n",
      "{LAPICES} -> {PLUMONES} (conf: 0.400, supp: 0.143, lift: 0.800, conv: 0.833)\n",
      "{REGLA} -> {LAPICES} (conf: 0.800, supp: 0.286, lift: 2.240, conv: 3.214)\n",
      "{LAPICES} -> {REGLA} (conf: 0.800, supp: 0.286, lift: 2.240, conv: 3.214)\n",
      "{PLUMONES} -> {LIBRETA} (conf: 0.571, supp: 0.286, lift: 1.000, conv: 1.000)\n",
      "{LIBRETA} -> {PLUMONES} (conf: 0.500, supp: 0.286, lift: 1.000, conv: 1.000)\n",
      "{POST-IT} -> {LIBRETA} (conf: 0.667, supp: 0.286, lift: 1.167, conv: 1.286)\n",
      "{LIBRETA} -> {POST-IT} (conf: 0.500, supp: 0.286, lift: 1.167, conv: 1.143)\n",
      "{REGLA} -> {LIBRETA} (conf: 0.400, supp: 0.143, lift: 0.700, conv: 0.714)\n",
      "{REGLA} -> {PLUMAS} (conf: 0.600, supp: 0.214, lift: 1.680, conv: 1.607)\n",
      "{PLUMAS} -> {REGLA} (conf: 0.600, supp: 0.214, lift: 1.680, conv: 1.607)\n",
      "{POST-IT} -> {PLUMONES} (conf: 0.500, supp: 0.214, lift: 1.000, conv: 1.000)\n",
      "{PLUMONES} -> {POST-IT} (conf: 0.429, supp: 0.214, lift: 1.000, conv: 1.000)\n",
      "{REGLA} -> {POST-IT} (conf: 0.400, supp: 0.143, lift: 0.933, conv: 0.952)\n",
      "{POST-IT} -> {REGLA} (conf: 0.333, supp: 0.143, lift: 0.933, conv: 0.964)\n",
      "{GOMA, PLUMONES} -> {BORRADOR} (conf: 1.000, supp: 0.143, lift: 2.800, conv: 642857142.857)\n",
      "{BORRADOR, PLUMONES} -> {GOMA} (conf: 0.667, supp: 0.143, lift: 1.037, conv: 1.071)\n",
      "{BORRADOR, GOMA} -> {PLUMONES} (conf: 0.500, supp: 0.143, lift: 1.000, conv: 1.000)\n",
      "{LAPICES, PLUMAS} -> {GOMA} (conf: 1.000, supp: 0.214, lift: 1.556, conv: 357142857.143)\n",
      "{GOMA, PLUMAS} -> {LAPICES} (conf: 0.750, supp: 0.214, lift: 2.100, conv: 2.571)\n",
      "{GOMA, LAPICES} -> {PLUMAS} (conf: 1.000, supp: 0.214, lift: 2.800, conv: 642857142.857)\n",
      "{LAPICES, REGLA} -> {GOMA} (conf: 0.750, supp: 0.214, lift: 1.167, conv: 1.429)\n",
      "{GOMA, REGLA} -> {LAPICES} (conf: 0.750, supp: 0.214, lift: 2.100, conv: 2.571)\n",
      "{GOMA, LAPICES} -> {REGLA} (conf: 1.000, supp: 0.214, lift: 2.800, conv: 642857142.857)\n",
      "{LIBRETA, POST-IT} -> {GOMA} (conf: 0.500, supp: 0.143, lift: 0.778, conv: 0.714)\n",
      "{GOMA, POST-IT} -> {LIBRETA} (conf: 0.500, supp: 0.143, lift: 0.875, conv: 0.857)\n",
      "{GOMA, LIBRETA} -> {POST-IT} (conf: 0.500, supp: 0.143, lift: 1.167, conv: 1.143)\n",
      "{PLUMAS, REGLA} -> {GOMA} (conf: 1.000, supp: 0.214, lift: 1.556, conv: 357142857.143)\n",
      "{GOMA, REGLA} -> {PLUMAS} (conf: 0.750, supp: 0.214, lift: 2.100, conv: 2.571)\n",
      "{GOMA, PLUMAS} -> {REGLA} (conf: 0.750, supp: 0.214, lift: 2.100, conv: 2.571)\n",
      "{POST-IT, REGLA} -> {GOMA} (conf: 1.000, supp: 0.143, lift: 1.556, conv: 357142857.143)\n",
      "{GOMA, REGLA} -> {POST-IT} (conf: 0.500, supp: 0.143, lift: 1.167, conv: 1.143)\n",
      "{GOMA, POST-IT} -> {REGLA} (conf: 0.500, supp: 0.143, lift: 1.400, conv: 1.286)\n",
      "{LIBRETA, PLUMONES} -> {LAPICES} (conf: 0.500, supp: 0.143, lift: 1.400, conv: 1.286)\n",
      "{LAPICES, PLUMONES} -> {LIBRETA} (conf: 1.000, supp: 0.143, lift: 1.750, conv: 428571428.571)\n",
      "{LAPICES, LIBRETA} -> {PLUMONES} (conf: 1.000, supp: 0.143, lift: 2.000, conv: 500000000.000)\n",
      "{PLUMAS, REGLA} -> {LAPICES} (conf: 1.000, supp: 0.214, lift: 2.800, conv: 642857142.857)\n",
      "{LAPICES, REGLA} -> {PLUMAS} (conf: 0.750, supp: 0.214, lift: 2.100, conv: 2.571)\n",
      "{LAPICES, PLUMAS} -> {REGLA} (conf: 1.000, supp: 0.214, lift: 2.800, conv: 642857142.857)\n",
      "{PLUMONES, POST-IT} -> {LIBRETA} (conf: 0.667, supp: 0.143, lift: 1.167, conv: 1.286)\n",
      "{LIBRETA, POST-IT} -> {PLUMONES} (conf: 0.500, supp: 0.143, lift: 1.000, conv: 1.000)\n",
      "{LIBRETA, PLUMONES} -> {POST-IT} (conf: 0.500, supp: 0.143, lift: 1.167, conv: 1.143)\n",
      "{LAPICES, PLUMAS, REGLA} -> {GOMA} (conf: 1.000, supp: 0.214, lift: 1.556, conv: 357142857.143)\n",
      "{GOMA, PLUMAS, REGLA} -> {LAPICES} (conf: 1.000, supp: 0.214, lift: 2.800, conv: 642857142.857)\n",
      "{GOMA, LAPICES, REGLA} -> {PLUMAS} (conf: 1.000, supp: 0.214, lift: 2.800, conv: 642857142.857)\n",
      "{GOMA, LAPICES, PLUMAS} -> {REGLA} (conf: 1.000, supp: 0.214, lift: 2.800, conv: 642857142.857)\n"
     ]
    }
   ],
   "source": [
    "# Importamos la función apriori desde la librería efficient_apriori\n",
    "from efficient_apriori import apriori\n",
    "\n",
    "# Definimos las transacciones como una lista de tuplas, donde cada tupla representa una transacción\n",
    "transacciones = [\n",
    "    (\"LIBRETA\", \"LAPICES\", \"BORRADOR\", \"PLUMONES\"),\n",
    "    (\"GOMA\", \"REGLA\", \"LAPICES\", \"PLUMAS\"),\n",
    "    (\"LIBRETA\", \"POST-IT\", \"PLUMONES\"),\n",
    "    (\"PLUMONES\", \"BORRADOR\", \"GOMA\", \"POST-IT\"),\n",
    "    (\"POST-IT\", \"LIBRETA\", \"GOMA\"),\n",
    "    (\"PLUMONES\", \"PLUMAS\"),\n",
    "    (\"REGLA\", \"PLUMAS\", \"LAPICES\", \"GOMA\", \"BORRADOR\"),\n",
    "    (\"BORRADOR\", \"PLUMONES\", \"GOMA\"),\n",
    "    (\"POST-IT\", \"LIBRETA\", \"GOMA\", \"REGLA\"),\n",
    "    (\"GOMA\", \"BORRADOR\", \"LIBRETA\"),\n",
    "    (\"LAPICES\", \"PLUMAS\", \"GOMA\", \"POST-IT\", \"REGLA\"),\n",
    "    (\"PLUMAS\", \"LIBRETA\", \"GOMA\"),\n",
    "    (\"PLUMONES\", \"POST-IT\", \"LIBRETA\"),\n",
    "    (\"LIBRETA\", \"REGLA\", \"LAPICES\", \"PLUMONES\")\n",
    "]\n",
    "\n",
    "\n",
    "# Utilizamos la función apriori para generar conjuntos de ítems frecuentes y reglas de asociación\n",
    "conjuntos, reglas = apriori(transacciones, min_support=0.1, min_confidence=0.1)\n",
    "\n",
    "# Filtramos y mostramos\n",
    "for regla in reglas:\n",
    "    # Verificamos si la regla tiene un solo elemento en el consecuente\n",
    "    if len(regla.rhs) == 1:\n",
    "        # Imprimimos la regla de asociación\n",
    "        print(regla)"
   ]
  }
 ],
 "metadata": {
  "kernelspec": {
   "display_name": "Python 3 (ipykernel)",
   "language": "python",
   "name": "python3"
  },
  "language_info": {
   "codemirror_mode": {
    "name": "ipython",
    "version": 3
   },
   "file_extension": ".py",
   "mimetype": "text/x-python",
   "name": "python",
   "nbconvert_exporter": "python",
   "pygments_lexer": "ipython3",
   "version": "3.11.5"
  }
 },
 "nbformat": 4,
 "nbformat_minor": 5
}
