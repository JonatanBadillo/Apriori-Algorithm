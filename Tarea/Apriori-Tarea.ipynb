{
 "cells": [
  {
   "cell_type": "markdown",
   "id": "486280a9",
   "metadata": {},
   "source": [
    "# Algoritmo Apriori"
   ]
  },
  {
   "cell_type": "markdown",
   "id": "24c75a70",
   "metadata": {},
   "source": [
    "## Importar las bibliotecas necesarias"
   ]
  },
  {
   "cell_type": "markdown",
   "id": "bd67e6ec",
   "metadata": {},
   "source": [
    "Esta parte del código importa las bibliotecas necesarias para implementar el algoritmo Apriori y analizar reglas de asociación utilizando Python. \n",
    "\n",
    "- `mlxtend.preprocessing.TransactionEncoder`: Convierte los datos en una matriz binaria, donde cada fila representa una transacción y cada columna representa un ítem, y marca con 1 si el ítem está presente en la transacción y 0 si no lo está.\n",
    "\n",
    "- `mlxtend.frequent_patterns.apriori`: Esta función implementa el algoritmo Apriori para encontrar conjuntos de ítems frecuentes en los datos de transacción.\n",
    "\n",
    "- `mlxtend.frequent_patterns.association_rules`: Esta función genera reglas de asociación a partir de los conjuntos de ítems frecuentes encontrados por el algoritmo Apriori.\n",
    "\n",
    "- `pandas`: Esta biblioteca se utiliza para manipular y analizar datos en formato tabular, como un DataFrame, lo que facilita el análisis y la visualización de los resultados de las reglas de asociación."
   ]
  },
  {
   "cell_type": "code",
   "execution_count": 1,
   "id": "e826ec1a",
   "metadata": {},
   "outputs": [],
   "source": [
    "# Importar las bibliotecas necesarias\n",
    "from mlxtend.preprocessing import TransactionEncoder\n",
    "from mlxtend.frequent_patterns import apriori, association_rules\n",
    "import pandas as pd"
   ]
  },
  {
   "cell_type": "markdown",
   "id": "a4d0a646",
   "metadata": {},
   "source": [
    "## Definir las transacciones"
   ]
  },
  {
   "cell_type": "markdown",
   "id": "2033e717",
   "metadata": {},
   "source": [
    "En esta parte del código se definen las transacciones de un supermercado. Cada tupla dentro de la lista `transacciones` representa una compra realizada por un cliente en el supermercado. Cada elemento dentro de la tupla corresponde a un artículo comprado por el cliente en esa transacción específica. "
   ]
  },
  {
   "cell_type": "code",
   "execution_count": 2,
   "id": "3683e8a8",
   "metadata": {},
   "outputs": [],
   "source": [
    "# Definir las transacciones\n",
    "# Cada tupla representa una transacción individual en un supermercado\n",
    "transacciones = [\n",
    "    (\"LECHE\", \"PAN\", \"HUEVO\"),\n",
    "    (\"CEREAL\", \"LECHE\", \"CREMA\", \"HUEVO\"),\n",
    "    (\"LECHE\", \"CREMA\", \"PAN\", \"HUEVO\")\n",
    "]"
   ]
  },
  {
   "cell_type": "markdown",
   "id": "059383c7",
   "metadata": {},
   "source": [
    "## Crear un codificador de transacciones"
   ]
  },
  {
   "cell_type": "markdown",
   "id": "4d60b61f",
   "metadata": {},
   "source": [
    "En esta parte del código, se está creando un objeto de la clase `TransactionEncoder`. Esta clase es parte de la biblioteca `mlxtend.preprocessing` y se utiliza para convertir las transacciones, representadas como listas de elementos, en una matriz binaria. Esta matriz binaria es una representación necesaria para el algoritmo Apriori, ya que se usara proximamente."
   ]
  },
  {
   "cell_type": "code",
   "execution_count": 3,
   "id": "0748d994",
   "metadata": {},
   "outputs": [],
   "source": [
    "# Crear un codificador de transacciones\n",
    "# Este objeto se utiliza para transformar las transacciones en una matriz de booleanos\n",
    "te = TransactionEncoder()"
   ]
  },
  {
   "cell_type": "markdown",
   "id": "2ca17756",
   "metadata": {},
   "source": [
    "## Ajustar y transformar las transacciones en una matriz de booleanos\n",
    "Se utiliza el objeto creado para transformar las transacciones representadas como listas de elementos en una matriz binaria. \n",
    "\n",
    "- Primero, se utiliza el método `fit(transacciones)` para ajustar el codificador a las transacciones dadas, lo que significa que el codificador aprende los diferentes elementos únicos presentes en las transacciones.\n",
    "  \n",
    "- Luego, se utiliza el método `transform(transacciones)` para transformar las transacciones en una matriz binaria, donde cada fila representa una transacción y cada columna representa un elemento. Si un elemento está presente en una transacción, se marca con 1; de lo contrario, se marca con 0.\n",
    "\n",
    "La variable `te_ary` contendrá esta matriz binaria, que se utilizará como entrada para el algoritmo Apriori para encontrar conjuntos de ítems frecuentes en los datos transaccionales."
   ]
  },
  {
   "cell_type": "code",
   "execution_count": 4,
   "id": "e5325de1",
   "metadata": {},
   "outputs": [
    {
     "name": "stdout",
     "output_type": "stream",
     "text": [
      "Cereal ,Crema ,Huevo ,Leche ,Pan \n",
      "\n",
      "[[False False  True  True  True]\n",
      " [ True  True  True  True False]\n",
      " [False  True  True  True  True]]\n"
     ]
    }
   ],
   "source": [
    "# Ajustar y transformar las transacciones en una matriz de booleanos\n",
    "# Cada fila de la matriz representa una transacción y cada columna representa un producto\n",
    "# Un valor True en una celda indica que el producto correspondiente fue comprado en la transacción correspondiente\n",
    "te_ary = te.fit(transacciones).transform(transacciones)\n",
    "print(f\"Cereal ,Crema ,Huevo ,Leche ,Pan \\n\")\n",
    "print(te_ary)"
   ]
  },
  {
   "cell_type": "markdown",
   "id": "c4e36efe",
   "metadata": {},
   "source": [
    "## Crear un DataFrame de pandas a partir de la matriz de booleanos"
   ]
  },
  {
   "cell_type": "markdown",
   "id": "b490b103",
   "metadata": {},
   "source": [
    "En esta parte del código, se está creando un DataFrame de pandas utilizando la matriz binaria `te_ary` generada previamente y los nombres de las columnas obtenidos de `te.columns_`.\n",
    "\n",
    "- `te.columns_` Los nombres de columnas se obtienen del `TransactionEncoder` luego de que ha sido ajustado a las transacciones.\n",
    "- `te_ary` es la matriz binaria\n"
   ]
  },
  {
   "cell_type": "code",
   "execution_count": 5,
   "id": "40846596",
   "metadata": {},
   "outputs": [],
   "source": [
    "# Crear un DataFrame de pandas a partir de la matriz de booleanos\n",
    "# Esto facilita el manejo de los datos en los siguientes pasos\n",
    "df = pd.DataFrame(te_ary, columns=te.columns_)"
   ]
  },
  {
   "cell_type": "markdown",
   "id": "8784fcde",
   "metadata": {},
   "source": [
    "# Encontrar conjuntos de elementos frecuentes con un soporte mínimo de 60%"
   ]
  },
  {
   "cell_type": "markdown",
   "id": "3f21d62b",
   "metadata": {},
   "source": [
    "En esta parte del código, se está aplicando el algoritmo Apriori a los datos representados en el DataFrame `df` para encontrar conjuntos de ítems frecuentes.\n",
    "\n",
    "- `apriori` es una función que toma como entrada el DataFrame `df`.\n",
    "- `min_support=0.6` En este caso, se ha establecido en 0.6, lo que significa que solo se considerarán los conjuntos de ítems que aparezcan en al menos el 60% de las transacciones.\n",
    "- `use_colnames=True` indica que se utilizarán los nombres de columna originales en el DataFrame.\n",
    "\n",
    "El resultado, `items_frecuentes`, contendrá los conjuntos de ítems que cumplen con el umbral de soporte mínimo especificado."
   ]
  },
  {
   "cell_type": "code",
   "execution_count": 6,
   "id": "67c3a1b6",
   "metadata": {},
   "outputs": [],
   "source": [
    "# Encontrar conjuntos de elementos frecuentes con un soporte mínimo de 60%\n",
    "# Un conjunto de elementos es frecuente si aparece en al menos el 60% de las transacciones\n",
    "items_frecuentes = apriori(df, min_support=0.6, use_colnames=True)"
   ]
  },
  {
   "cell_type": "markdown",
   "id": "29fffac0",
   "metadata": {},
   "source": [
    "## Generar las reglas de asociación con una confianza mínima de 60%"
   ]
  },
  {
   "cell_type": "markdown",
   "id": "1507650d",
   "metadata": {},
   "source": [
    "En esta parte del código, se están generando reglas de asociación a partir de los conjuntos de ítems frecuentes utilizando la función `association_rules`.\n",
    "\n",
    "- `items_frecuentes` es el DataFrame que contiene los conjuntos de ítems frecuentes encontrados mediante el algoritmo Apriori.\n",
    "- `metric=\"confidence\"` especifica que la métrica utilizada para evaluar las reglas de asociación será la confianza.\n",
    "- `min_threshold=0.6` indica que solo se generarán reglas que tengan una confianza igual o mayor al 60%.\n",
    "\n",
    "El resultado, `reglas`, contendrá las reglas de asociación con una confianza mínima de 60%"
   ]
  },
  {
   "cell_type": "code",
   "execution_count": 7,
   "id": "0b13df3b",
   "metadata": {},
   "outputs": [],
   "source": [
    "# Generar las reglas de asociación con una confianza mínima de 60%\n",
    "# Una regla de asociación es una implicación de la forma {A} -> {B}\n",
    "# La confianza de la regla es la proporción de transacciones con A que también contienen B\n",
    "reglas = association_rules(items_frecuentes, metric=\"confidence\", min_threshold=0.6)"
   ]
  },
  {
   "cell_type": "markdown",
   "id": "02c39a03",
   "metadata": {},
   "source": [
    "## Mostrar Data Frame"
   ]
  },
  {
   "cell_type": "code",
   "execution_count": 8,
   "id": "b723e1de",
   "metadata": {},
   "outputs": [
    {
     "name": "stdout",
     "output_type": "stream",
     "text": [
      "       antecedents     consequents  support confidence  lift\n",
      "0          (HUEVO)         (CREMA)   66.67%     66.67%   1.0\n",
      "1          (CREMA)         (HUEVO)   66.67%    100.00%   1.0\n",
      "2          (LECHE)         (CREMA)   66.67%     66.67%   1.0\n",
      "3          (CREMA)         (LECHE)   66.67%    100.00%   1.0\n",
      "4          (LECHE)         (HUEVO)  100.00%    100.00%   1.0\n",
      "5          (HUEVO)         (LECHE)  100.00%    100.00%   1.0\n",
      "6          (HUEVO)           (PAN)   66.67%     66.67%   1.0\n",
      "7            (PAN)         (HUEVO)   66.67%    100.00%   1.0\n",
      "8          (LECHE)           (PAN)   66.67%     66.67%   1.0\n",
      "9            (PAN)         (LECHE)   66.67%    100.00%   1.0\n",
      "10  (LECHE, HUEVO)         (CREMA)   66.67%     66.67%   1.0\n",
      "11  (LECHE, CREMA)         (HUEVO)   66.67%    100.00%   1.0\n",
      "12  (HUEVO, CREMA)         (LECHE)   66.67%    100.00%   1.0\n",
      "13         (LECHE)  (HUEVO, CREMA)   66.67%     66.67%   1.0\n",
      "14         (HUEVO)  (LECHE, CREMA)   66.67%     66.67%   1.0\n",
      "15         (CREMA)  (LECHE, HUEVO)   66.67%    100.00%   1.0\n",
      "16  (LECHE, HUEVO)           (PAN)   66.67%     66.67%   1.0\n",
      "17    (LECHE, PAN)         (HUEVO)   66.67%    100.00%   1.0\n",
      "18    (HUEVO, PAN)         (LECHE)   66.67%    100.00%   1.0\n",
      "19         (LECHE)    (HUEVO, PAN)   66.67%     66.67%   1.0\n",
      "20         (HUEVO)    (LECHE, PAN)   66.67%     66.67%   1.0\n",
      "21           (PAN)  (LECHE, HUEVO)   66.67%    100.00%   1.0\n"
     ]
    }
   ],
   "source": [
    "# Convertir los valores de soporte y confianza a porcentaje y añadir el símbolo '%'\n",
    "# Esto hace que los resultados sean más fáciles de interpretar\n",
    "reglas['support'] = (reglas['support']*100).apply(lambda x: f'{x:.2f}%')\n",
    "reglas['confidence'] = (reglas['confidence']*100).apply(lambda x: f'{x:.2f}%')\n",
    "\n",
    "# Mostrar solo las columnas deseadas\n",
    "# Estas columnas contienen la información más relevante sobre las reglas de asociación\n",
    "reglas = reglas[['antecedents', 'consequents', 'support', 'confidence', 'lift' ]]\n",
    "print(reglas)"
   ]
  },
  {
   "cell_type": "markdown",
   "id": "82993d1f",
   "metadata": {},
   "source": [
    "# Codigo 2"
   ]
  },
  {
   "cell_type": "markdown",
   "id": "feb191d8",
   "metadata": {},
   "source": [
    "## Importación de bibliotecas:\n",
    "   - `from itertools import combinations, chain`: Importa las funciones `combinations` y `chain` del módulo `itertools`. Estas funciones se utilizan para generar combinaciones y permutaciones."
   ]
  },
  {
   "cell_type": "code",
   "execution_count": 9,
   "id": "425889dd",
   "metadata": {
    "scrolled": true
   },
   "outputs": [],
   "source": [
    "from itertools import combinations, chain"
   ]
  },
  {
   "cell_type": "markdown",
   "id": "2b3f2fd5",
   "metadata": {},
   "source": [
    "## Cargar el conjunto de datos:\n",
    "\n",
    "`dataset`: Es una tupla que representa los elementos comprados juntos en una transacción."
   ]
  },
  {
   "cell_type": "code",
   "execution_count": 10,
   "id": "fe81de99",
   "metadata": {},
   "outputs": [],
   "source": [
    "# Conjunto de datos\n",
    "dataset = [\n",
    "    (\"LECHE\", \"PAN\", \"HUEVO\"),\n",
    "    (\"CEREAL\", \"LECHE\", \"CREMA\", \"HUEVO\"),\n",
    "    (\"LECHE\", \"CREMA\", \"PAN\", \"HUEVO\")\n",
    "]"
   ]
  },
  {
   "cell_type": "markdown",
   "id": "9ca2cba2",
   "metadata": {},
   "source": [
    "## Definición de funciones:\n",
    "\n",
    "`subsets(arr)` : Genera todos los subconjuntos posibles de un conjunto dado."
   ]
  },
  {
   "cell_type": "markdown",
   "id": "4a5edb5f",
   "metadata": {},
   "source": [
    "La función toma un conjunto de elementos y crea todos los posibles grupos de elementos dentro de ese conjunto. Usa la función `combinations` para hacer eso. \n",
    "Después, usa `chain` para unir todas estas combinaciones en un solo grupo grande. Finalmente, devuelve este grupo grande de todos los subconjuntos posibles."
   ]
  },
  {
   "cell_type": "code",
   "execution_count": 1,
   "id": "aefa252e",
   "metadata": {},
   "outputs": [],
   "source": [
    "# Función para generar subconjuntos de un conjunto\n",
    "def subsets(arr):\n",
    "    return chain(*[combinations(arr, i + 1) for i, a in enumerate(arr)])"
   ]
  },
  {
   "cell_type": "markdown",
   "id": "3810875c",
   "metadata": {},
   "source": [
    " `get_frequent_itemsets(transactions, min_support)`: \n",
    "- Encontramos conjuntos de elementos que aparecen frecuentemente en el conjunto de transacciones.\n",
    "- Utilizamos el diccionario `counter` para contar cuántas veces aparece cada conjunto de elementos. \n",
    "- Iteramos sobre cada transacción y obtenemos todos sus subconjuntos. \n",
    "- Actualizamos el contador para cada subconjunto. \n",
    "- Finalmente, devolvemos los conjuntos de elementos que superan un cierto umbral de apoyo (proporción de transacciones que contienen el conjunto) especificado por `min_support`. \n",
    "\n",
    "Es decir, esta función encuentra los grupos de cosas que la gente compra juntas con frecuencia. Para hacerlo, cuenta cuántas veces aparece cada grupo en todas las compras. Si un grupo aparece suficientes veces, lo considera importante. Luego, devuelve estos grupos importantes que aparecen más veces que un número mínimo que especificas."
   ]
  },
  {
   "cell_type": "code",
   "execution_count": null,
   "id": "8ba49183",
   "metadata": {},
   "outputs": [],
   "source": [
    "# Función para obtener conjuntos de elementos frecuentes\n",
    "def get_frequent_itemsets(transactions, min_support):\n",
    "    counter = {}\n",
    "    for transaction in transactions:\n",
    "        subsets_list = list(map(frozenset, subsets(transaction)))\n",
    "        for subset in subsets_list:\n",
    "            if subset not in counter:\n",
    "                counter[subset] = 1\n",
    "            else:\n",
    "                counter[subset] += 1\n",
    "\n",
    "    return {itemset: support for itemset, support in counter.items() if support/len(transactions) >= min_support}"
   ]
  },
  {
   "cell_type": "markdown",
   "id": "6d96159b",
   "metadata": {},
   "source": [
    "`calculate_rules(frequent_itemsets, min_confidence, total_transactions)`: Calcula las reglas de asociación basadas en los conjuntos de elementos frecuentes y la confianza mínimo.\n",
    "- Calculamos el soporte (cuán común es un conjunto de elementos), la confianza (probabilidad de que ocurra un conjunto dado otro), y el lift (cuánto más probable es que ocurra el conjunto dado otro en comparación con si fueran independientes). \n",
    "- Iteramos sobre cada conjunto de elementos frecuentes y sus subconjuntos, calcula estas medidas para cada par, y devuelve las reglas que tienen una confianza mayor o igual a un cierto valor mínimo especificado por `min_confidence`."
   ]
  },
  {
   "cell_type": "code",
   "execution_count": 11,
   "id": "2dfae16c",
   "metadata": {},
   "outputs": [],
   "source": [
    "# Función para calcular el soporte, la confianza y el lift\n",
    "def calculate_rules(frequent_itemsets, min_confidence, total_transactions):\n",
    "    rules = []\n",
    "    for itemset in frequent_itemsets:\n",
    "        for subset in subsets(itemset):\n",
    "            subset = frozenset(subset)\n",
    "            diff = itemset.difference(subset)\n",
    "            if diff:\n",
    "                support_itemset = frequent_itemsets[itemset] / total_transactions\n",
    "                support_subset = frequent_itemsets[subset] / total_transactions\n",
    "                support_diff = frequent_itemsets[diff] / total_transactions\n",
    "                confidence = frequent_itemsets[itemset] / frequent_itemsets[subset]\n",
    "                lift = confidence / support_diff\n",
    "                if confidence >= min_confidence:\n",
    "                    rules.append((subset, diff, support_itemset, confidence, lift))\n",
    "    return rules"
   ]
  },
  {
   "cell_type": "markdown",
   "id": "30b1504d",
   "metadata": {},
   "source": [
    "## Obtención de conjuntos de elementos frecuentes:\n",
    "\n",
    "`frequent_itemsets = get_frequent_itemsets(dataset, min_support=0.6)`: Se obtienen los conjuntos de elementos frecuentes en el conjunto de datos. En este caso, se establece un umbral de soporte del 60%."
   ]
  },
  {
   "cell_type": "code",
   "execution_count": 12,
   "id": "5170d287",
   "metadata": {},
   "outputs": [],
   "source": [
    "# Obtener conjuntos de elementos frecuentes\n",
    "frequent_itemsets = get_frequent_itemsets(dataset, min_support=0.6)"
   ]
  },
  {
   "cell_type": "markdown",
   "id": "3a7ab72f",
   "metadata": {},
   "source": [
    "## Cálculo de reglas de asociación:\n",
    "\n",
    "`rules = calculate_rules(frequent_itemsets, min_confidence=0.6, total_transactions=len(dataset))`: Se calculan las reglas de asociación basadas en los conjuntos de elementos frecuentes obtenidos y un umbral de confianza del 60%."
   ]
  },
  {
   "cell_type": "code",
   "execution_count": 13,
   "id": "423f3718",
   "metadata": {},
   "outputs": [],
   "source": [
    "# Calcular reglas\n",
    "rules = calculate_rules(frequent_itemsets, min_confidence=0.6, total_transactions=len(dataset))"
   ]
  },
  {
   "cell_type": "markdown",
   "id": "e3ca3930",
   "metadata": {},
   "source": [
    "## Creación de DataFrame:"
   ]
  },
  {
   "cell_type": "code",
   "execution_count": 14,
   "id": "d19cf7f5",
   "metadata": {},
   "outputs": [
    {
     "data": {
      "text/html": [
       "<div>\n",
       "<style scoped>\n",
       "    .dataframe tbody tr th:only-of-type {\n",
       "        vertical-align: middle;\n",
       "    }\n",
       "\n",
       "    .dataframe tbody tr th {\n",
       "        vertical-align: top;\n",
       "    }\n",
       "\n",
       "    .dataframe thead th {\n",
       "        text-align: right;\n",
       "    }\n",
       "</style>\n",
       "<table border=\"1\" class=\"dataframe\">\n",
       "  <thead>\n",
       "    <tr style=\"text-align: right;\">\n",
       "      <th></th>\n",
       "      <th>Antecedente</th>\n",
       "      <th>Consecuente</th>\n",
       "      <th>Soporte</th>\n",
       "      <th>Confianza</th>\n",
       "      <th>Lift</th>\n",
       "    </tr>\n",
       "  </thead>\n",
       "  <tbody>\n",
       "    <tr>\n",
       "      <th>0</th>\n",
       "      <td>[LECHE]</td>\n",
       "      <td>[PAN]</td>\n",
       "      <td>66.67%</td>\n",
       "      <td>66.67%</td>\n",
       "      <td>100.00%</td>\n",
       "    </tr>\n",
       "    <tr>\n",
       "      <th>1</th>\n",
       "      <td>[PAN]</td>\n",
       "      <td>[LECHE]</td>\n",
       "      <td>66.67%</td>\n",
       "      <td>100.00%</td>\n",
       "      <td>100.00%</td>\n",
       "    </tr>\n",
       "    <tr>\n",
       "      <th>2</th>\n",
       "      <td>[LECHE]</td>\n",
       "      <td>[HUEVO]</td>\n",
       "      <td>100.00%</td>\n",
       "      <td>100.00%</td>\n",
       "      <td>100.00%</td>\n",
       "    </tr>\n",
       "    <tr>\n",
       "      <th>3</th>\n",
       "      <td>[HUEVO]</td>\n",
       "      <td>[LECHE]</td>\n",
       "      <td>100.00%</td>\n",
       "      <td>100.00%</td>\n",
       "      <td>100.00%</td>\n",
       "    </tr>\n",
       "    <tr>\n",
       "      <th>4</th>\n",
       "      <td>[HUEVO]</td>\n",
       "      <td>[PAN]</td>\n",
       "      <td>66.67%</td>\n",
       "      <td>66.67%</td>\n",
       "      <td>100.00%</td>\n",
       "    </tr>\n",
       "    <tr>\n",
       "      <th>5</th>\n",
       "      <td>[PAN]</td>\n",
       "      <td>[HUEVO]</td>\n",
       "      <td>66.67%</td>\n",
       "      <td>100.00%</td>\n",
       "      <td>100.00%</td>\n",
       "    </tr>\n",
       "    <tr>\n",
       "      <th>6</th>\n",
       "      <td>[LECHE]</td>\n",
       "      <td>[HUEVO, PAN]</td>\n",
       "      <td>66.67%</td>\n",
       "      <td>66.67%</td>\n",
       "      <td>100.00%</td>\n",
       "    </tr>\n",
       "    <tr>\n",
       "      <th>7</th>\n",
       "      <td>[HUEVO]</td>\n",
       "      <td>[LECHE, PAN]</td>\n",
       "      <td>66.67%</td>\n",
       "      <td>66.67%</td>\n",
       "      <td>100.00%</td>\n",
       "    </tr>\n",
       "    <tr>\n",
       "      <th>8</th>\n",
       "      <td>[PAN]</td>\n",
       "      <td>[LECHE, HUEVO]</td>\n",
       "      <td>66.67%</td>\n",
       "      <td>100.00%</td>\n",
       "      <td>100.00%</td>\n",
       "    </tr>\n",
       "    <tr>\n",
       "      <th>9</th>\n",
       "      <td>[LECHE, HUEVO]</td>\n",
       "      <td>[PAN]</td>\n",
       "      <td>66.67%</td>\n",
       "      <td>66.67%</td>\n",
       "      <td>100.00%</td>\n",
       "    </tr>\n",
       "    <tr>\n",
       "      <th>10</th>\n",
       "      <td>[LECHE, PAN]</td>\n",
       "      <td>[HUEVO]</td>\n",
       "      <td>66.67%</td>\n",
       "      <td>100.00%</td>\n",
       "      <td>100.00%</td>\n",
       "    </tr>\n",
       "    <tr>\n",
       "      <th>11</th>\n",
       "      <td>[HUEVO, PAN]</td>\n",
       "      <td>[LECHE]</td>\n",
       "      <td>66.67%</td>\n",
       "      <td>100.00%</td>\n",
       "      <td>100.00%</td>\n",
       "    </tr>\n",
       "    <tr>\n",
       "      <th>12</th>\n",
       "      <td>[LECHE]</td>\n",
       "      <td>[CREMA]</td>\n",
       "      <td>66.67%</td>\n",
       "      <td>66.67%</td>\n",
       "      <td>100.00%</td>\n",
       "    </tr>\n",
       "    <tr>\n",
       "      <th>13</th>\n",
       "      <td>[CREMA]</td>\n",
       "      <td>[LECHE]</td>\n",
       "      <td>66.67%</td>\n",
       "      <td>100.00%</td>\n",
       "      <td>100.00%</td>\n",
       "    </tr>\n",
       "    <tr>\n",
       "      <th>14</th>\n",
       "      <td>[HUEVO]</td>\n",
       "      <td>[CREMA]</td>\n",
       "      <td>66.67%</td>\n",
       "      <td>66.67%</td>\n",
       "      <td>100.00%</td>\n",
       "    </tr>\n",
       "    <tr>\n",
       "      <th>15</th>\n",
       "      <td>[CREMA]</td>\n",
       "      <td>[HUEVO]</td>\n",
       "      <td>66.67%</td>\n",
       "      <td>100.00%</td>\n",
       "      <td>100.00%</td>\n",
       "    </tr>\n",
       "    <tr>\n",
       "      <th>16</th>\n",
       "      <td>[LECHE]</td>\n",
       "      <td>[HUEVO, CREMA]</td>\n",
       "      <td>66.67%</td>\n",
       "      <td>66.67%</td>\n",
       "      <td>100.00%</td>\n",
       "    </tr>\n",
       "    <tr>\n",
       "      <th>17</th>\n",
       "      <td>[HUEVO]</td>\n",
       "      <td>[LECHE, CREMA]</td>\n",
       "      <td>66.67%</td>\n",
       "      <td>66.67%</td>\n",
       "      <td>100.00%</td>\n",
       "    </tr>\n",
       "    <tr>\n",
       "      <th>18</th>\n",
       "      <td>[CREMA]</td>\n",
       "      <td>[LECHE, HUEVO]</td>\n",
       "      <td>66.67%</td>\n",
       "      <td>100.00%</td>\n",
       "      <td>100.00%</td>\n",
       "    </tr>\n",
       "    <tr>\n",
       "      <th>19</th>\n",
       "      <td>[LECHE, HUEVO]</td>\n",
       "      <td>[CREMA]</td>\n",
       "      <td>66.67%</td>\n",
       "      <td>66.67%</td>\n",
       "      <td>100.00%</td>\n",
       "    </tr>\n",
       "    <tr>\n",
       "      <th>20</th>\n",
       "      <td>[LECHE, CREMA]</td>\n",
       "      <td>[HUEVO]</td>\n",
       "      <td>66.67%</td>\n",
       "      <td>100.00%</td>\n",
       "      <td>100.00%</td>\n",
       "    </tr>\n",
       "    <tr>\n",
       "      <th>21</th>\n",
       "      <td>[HUEVO, CREMA]</td>\n",
       "      <td>[LECHE]</td>\n",
       "      <td>66.67%</td>\n",
       "      <td>100.00%</td>\n",
       "      <td>100.00%</td>\n",
       "    </tr>\n",
       "  </tbody>\n",
       "</table>\n",
       "</div>"
      ],
      "text/plain": [
       "       Antecedente     Consecuente  Soporte Confianza     Lift\n",
       "0          [LECHE]           [PAN]   66.67%    66.67%  100.00%\n",
       "1            [PAN]         [LECHE]   66.67%   100.00%  100.00%\n",
       "2          [LECHE]         [HUEVO]  100.00%   100.00%  100.00%\n",
       "3          [HUEVO]         [LECHE]  100.00%   100.00%  100.00%\n",
       "4          [HUEVO]           [PAN]   66.67%    66.67%  100.00%\n",
       "5            [PAN]         [HUEVO]   66.67%   100.00%  100.00%\n",
       "6          [LECHE]    [HUEVO, PAN]   66.67%    66.67%  100.00%\n",
       "7          [HUEVO]    [LECHE, PAN]   66.67%    66.67%  100.00%\n",
       "8            [PAN]  [LECHE, HUEVO]   66.67%   100.00%  100.00%\n",
       "9   [LECHE, HUEVO]           [PAN]   66.67%    66.67%  100.00%\n",
       "10    [LECHE, PAN]         [HUEVO]   66.67%   100.00%  100.00%\n",
       "11    [HUEVO, PAN]         [LECHE]   66.67%   100.00%  100.00%\n",
       "12         [LECHE]         [CREMA]   66.67%    66.67%  100.00%\n",
       "13         [CREMA]         [LECHE]   66.67%   100.00%  100.00%\n",
       "14         [HUEVO]         [CREMA]   66.67%    66.67%  100.00%\n",
       "15         [CREMA]         [HUEVO]   66.67%   100.00%  100.00%\n",
       "16         [LECHE]  [HUEVO, CREMA]   66.67%    66.67%  100.00%\n",
       "17         [HUEVO]  [LECHE, CREMA]   66.67%    66.67%  100.00%\n",
       "18         [CREMA]  [LECHE, HUEVO]   66.67%   100.00%  100.00%\n",
       "19  [LECHE, HUEVO]         [CREMA]   66.67%    66.67%  100.00%\n",
       "20  [LECHE, CREMA]         [HUEVO]   66.67%   100.00%  100.00%\n",
       "21  [HUEVO, CREMA]         [LECHE]   66.67%   100.00%  100.00%"
      ]
     },
     "execution_count": 14,
     "metadata": {},
     "output_type": "execute_result"
    }
   ],
   "source": [
    "# Crear DataFrame\n",
    "rules_df = pd.DataFrame(rules, columns=['Antecedente', 'Consecuente', 'Soporte', 'Confianza', 'Lift'])\n",
    "\n",
    "# Convertir conjuntos a listas para una mejor visualización\n",
    "rules_df['Antecedente'] = rules_df['Antecedente'].apply(list)\n",
    "rules_df['Consecuente'] = rules_df['Consecuente'].apply(list)\n",
    "\n",
    "# Convertir soporte y confianza a porcentajes con dos decimales\n",
    "rules_df['Soporte'] = rules_df['Soporte'].apply(lambda x: f'{x * 100:.2f}%')\n",
    "rules_df['Confianza'] = rules_df['Confianza'].apply(lambda x: f'{x * 100:.2f}%')\n",
    "rules_df['Lift'] = rules_df['Lift'].apply(lambda x: f'{x * 100:.2f}%')\n",
    "\n",
    "# Mostrar DataFrame\n",
    "rules_df"
   ]
  }
 ],
 "metadata": {
  "kernelspec": {
   "display_name": "Python 3 (ipykernel)",
   "language": "python",
   "name": "python3"
  },
  "language_info": {
   "codemirror_mode": {
    "name": "ipython",
    "version": 3
   },
   "file_extension": ".py",
   "mimetype": "text/x-python",
   "name": "python",
   "nbconvert_exporter": "python",
   "pygments_lexer": "ipython3",
   "version": "3.11.5"
  }
 },
 "nbformat": 4,
 "nbformat_minor": 5
}
