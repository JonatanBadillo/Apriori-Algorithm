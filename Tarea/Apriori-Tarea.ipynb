{
 "cells": [
  {
   "cell_type": "markdown",
   "id": "486280a9",
   "metadata": {},
   "source": [
    "# Algoritmo Apriori"
   ]
  },
  {
   "cell_type": "markdown",
   "id": "24c75a70",
   "metadata": {},
   "source": [
    "## Importar las bibliotecas necesarias"
   ]
  },
  {
   "cell_type": "markdown",
   "id": "bd67e6ec",
   "metadata": {},
   "source": [
    "Esta parte del código importa las bibliotecas necesarias para implementar el algoritmo Apriori y analizar reglas de asociación utilizando Python. \n",
    "\n",
    "- `mlxtend.preprocessing.TransactionEncoder`: Convierte los datos en una matriz binaria, donde cada fila representa una transacción y cada columna representa un ítem, y marca con 1 si el ítem está presente en la transacción y 0 si no lo está.\n",
    "\n",
    "- `mlxtend.frequent_patterns.apriori`: Esta función implementa el algoritmo Apriori para encontrar conjuntos de ítems frecuentes en los datos de transacción.\n",
    "\n",
    "- `mlxtend.frequent_patterns.association_rules`: Esta función genera reglas de asociación a partir de los conjuntos de ítems frecuentes encontrados por el algoritmo Apriori.\n",
    "\n",
    "- `pandas`: Esta biblioteca se utiliza para manipular y analizar datos en formato tabular, como un DataFrame, lo que facilita el análisis y la visualización de los resultados de las reglas de asociación."
   ]
  },
  {
   "cell_type": "code",
   "execution_count": 35,
   "id": "e826ec1a",
   "metadata": {},
   "outputs": [],
   "source": [
    "# Importar las bibliotecas necesarias\n",
    "from mlxtend.preprocessing import TransactionEncoder\n",
    "from mlxtend.frequent_patterns import apriori, association_rules\n",
    "import pandas as pd"
   ]
  },
  {
   "cell_type": "markdown",
   "id": "a4d0a646",
   "metadata": {},
   "source": [
    "## Definir las transacciones"
   ]
  },
  {
   "cell_type": "markdown",
   "id": "2033e717",
   "metadata": {},
   "source": [
    "En esta parte del código se definen las transacciones de un supermercado. Cada tupla dentro de la lista `transacciones` representa una compra realizada por un cliente en el supermercado. Cada elemento dentro de la tupla corresponde a un artículo comprado por el cliente en esa transacción específica. "
   ]
  },
  {
   "cell_type": "code",
   "execution_count": null,
   "id": "3683e8a8",
   "metadata": {},
   "outputs": [],
   "source": [
    "# Definir las transacciones\n",
    "# Cada tupla representa una transacción individual en un supermercado\n",
    "transacciones = [\n",
    "    (\"LECHE\", \"PAN\", \"HUEVO\"),\n",
    "    (\"CEREAL\", \"LECHE\", \"CREMA\", \"HUEVO\"),\n",
    "    (\"LECHE\", \"CREMA\", \"PAN\", \"HUEVO\")\n",
    "]"
   ]
  },
  {
   "cell_type": "markdown",
   "id": "059383c7",
   "metadata": {},
   "source": [
    "## Crear un codificador de transacciones"
   ]
  },
  {
   "cell_type": "markdown",
   "id": "4d60b61f",
   "metadata": {},
   "source": [
    "En esta parte del código, se está creando un objeto de la clase `TransactionEncoder`. Esta clase es parte de la biblioteca `mlxtend.preprocessing` y se utiliza para convertir las transacciones, representadas como listas de elementos, en una matriz binaria. Esta matriz binaria es una representación necesaria para el algoritmo Apriori, ya que se usara proximamente."
   ]
  },
  {
   "cell_type": "code",
   "execution_count": 38,
   "id": "0748d994",
   "metadata": {},
   "outputs": [],
   "source": [
    "# Crear un codificador de transacciones\n",
    "# Este objeto se utiliza para transformar las transacciones en una matriz de booleanos\n",
    "te = TransactionEncoder()"
   ]
  },
  {
   "cell_type": "markdown",
   "id": "2ca17756",
   "metadata": {},
   "source": [
    "## Ajustar y transformar las transacciones en una matriz de booleanos\n",
    "Se utiliza el objeto creado para transformar las transacciones representadas como listas de elementos en una matriz binaria. \n",
    "\n",
    "- Primero, se utiliza el método `fit(transacciones)` para ajustar el codificador a las transacciones dadas, lo que significa que el codificador aprende los diferentes elementos únicos presentes en las transacciones.\n",
    "  \n",
    "- Luego, se utiliza el método `transform(transacciones)` para transformar las transacciones en una matriz binaria, donde cada fila representa una transacción y cada columna representa un elemento. Si un elemento está presente en una transacción, se marca con 1; de lo contrario, se marca con 0.\n",
    "\n",
    "La variable `te_ary` contendrá esta matriz binaria, que se utilizará como entrada para el algoritmo Apriori para encontrar conjuntos de ítems frecuentes en los datos transaccionales."
   ]
  },
  {
   "cell_type": "code",
   "execution_count": 42,
   "id": "e5325de1",
   "metadata": {},
   "outputs": [
    {
     "name": "stdout",
     "output_type": "stream",
     "text": [
      "Cereal ,Crema ,Huevo ,Leche ,Pan \n",
      "\n",
      "[[False False  True  True  True]\n",
      " [ True  True  True  True False]\n",
      " [False  True  True  True  True]]\n"
     ]
    }
   ],
   "source": [
    "# Ajustar y transformar las transacciones en una matriz de booleanos\n",
    "# Cada fila de la matriz representa una transacción y cada columna representa un producto\n",
    "# Un valor True en una celda indica que el producto correspondiente fue comprado en la transacción correspondiente\n",
    "te_ary = te.fit(transacciones).transform(transacciones)\n",
    "print(f\"Cereal ,Crema ,Huevo ,Leche ,Pan \\n\")\n",
    "print(te_ary)"
   ]
  },
  {
   "cell_type": "markdown",
   "id": "c4e36efe",
   "metadata": {},
   "source": [
    "## Crear un DataFrame de pandas a partir de la matriz de booleanos"
   ]
  },
  {
   "cell_type": "markdown",
   "id": "b490b103",
   "metadata": {},
   "source": [
    "En esta parte del código, se está creando un DataFrame de pandas utilizando la matriz binaria `te_ary` generada previamente y los nombres de las columnas obtenidos de `te.columns_`.\n",
    "\n",
    "- `te.columns_` Los nombres de columnas se obtienen del `TransactionEncoder` luego de que ha sido ajustado a las transacciones.\n",
    "- `te_ary` es la matriz binaria\n"
   ]
  },
  {
   "cell_type": "code",
   "execution_count": 44,
   "id": "40846596",
   "metadata": {},
   "outputs": [],
   "source": [
    "# Crear un DataFrame de pandas a partir de la matriz de booleanos\n",
    "# Esto facilita el manejo de los datos en los siguientes pasos\n",
    "df = pd.DataFrame(te_ary, columns=te.columns_)"
   ]
  },
  {
   "cell_type": "markdown",
   "id": "8784fcde",
   "metadata": {},
   "source": [
    "# Encontrar conjuntos de elementos frecuentes con un soporte mínimo de 60%"
   ]
  },
  {
   "cell_type": "markdown",
   "id": "3f21d62b",
   "metadata": {},
   "source": [
    "En esta parte del código, se está aplicando el algoritmo Apriori a los datos representados en el DataFrame `df` para encontrar conjuntos de ítems frecuentes.\n",
    "\n",
    "- `apriori` es una función que toma como entrada el DataFrame `df`.\n",
    "- `min_support=0.6` En este caso, se ha establecido en 0.6, lo que significa que solo se considerarán los conjuntos de ítems que aparezcan en al menos el 60% de las transacciones.\n",
    "- `use_colnames=True` indica que se utilizarán los nombres de columna originales en el DataFrame.\n",
    "\n",
    "El resultado, `items_frecuentes`, contendrá los conjuntos de ítems que cumplen con el umbral de soporte mínimo especificado."
   ]
  },
  {
   "cell_type": "code",
   "execution_count": 47,
   "id": "67c3a1b6",
   "metadata": {},
   "outputs": [],
   "source": [
    "# Encontrar conjuntos de elementos frecuentes con un soporte mínimo de 60%\n",
    "# Un conjunto de elementos es frecuente si aparece en al menos el 60% de las transacciones\n",
    "items_frecuentes = apriori(df, min_support=0.6, use_colnames=True)"
   ]
  },
  {
   "cell_type": "markdown",
   "id": "29fffac0",
   "metadata": {},
   "source": [
    "## Generar las reglas de asociación con una confianza mínima de 60%"
   ]
  },
  {
   "cell_type": "markdown",
   "id": "1507650d",
   "metadata": {},
   "source": [
    "En esta parte del código, se están generando reglas de asociación a partir de los conjuntos de ítems frecuentes utilizando la función `association_rules`.\n",
    "\n",
    "- `items_frecuentes` es el DataFrame que contiene los conjuntos de ítems frecuentes encontrados mediante el algoritmo Apriori.\n",
    "- `metric=\"confidence\"` especifica que la métrica utilizada para evaluar las reglas de asociación será la confianza.\n",
    "- `min_threshold=0.6` indica que solo se generarán reglas que tengan una confianza igual o mayor al 60%.\n",
    "\n",
    "El resultado, `reglas`, contendrá las reglas de asociación con una confianza mínima de 60%"
   ]
  },
  {
   "cell_type": "code",
   "execution_count": 48,
   "id": "0b13df3b",
   "metadata": {},
   "outputs": [],
   "source": [
    "# Generar las reglas de asociación con una confianza mínima de 60%\n",
    "# Una regla de asociación es una implicación de la forma {A} -> {B}\n",
    "# La confianza de la regla es la proporción de transacciones con A que también contienen B\n",
    "reglas = association_rules(items_frecuentes, metric=\"confidence\", min_threshold=0.6)"
   ]
  },
  {
   "cell_type": "markdown",
   "id": "02c39a03",
   "metadata": {},
   "source": [
    "## Mostrar Data Frame"
   ]
  },
  {
   "cell_type": "code",
   "execution_count": 51,
   "id": "b723e1de",
   "metadata": {},
   "outputs": [
    {
     "data": {
      "text/html": [
       "<div>\n",
       "<style scoped>\n",
       "    .dataframe tbody tr th:only-of-type {\n",
       "        vertical-align: middle;\n",
       "    }\n",
       "\n",
       "    .dataframe tbody tr th {\n",
       "        vertical-align: top;\n",
       "    }\n",
       "\n",
       "    .dataframe thead th {\n",
       "        text-align: right;\n",
       "    }\n",
       "</style>\n",
       "<table border=\"1\" class=\"dataframe\">\n",
       "  <thead>\n",
       "    <tr style=\"text-align: right;\">\n",
       "      <th></th>\n",
       "      <th>antecedents</th>\n",
       "      <th>consequents</th>\n",
       "      <th>support</th>\n",
       "      <th>confidence</th>\n",
       "      <th>lift</th>\n",
       "    </tr>\n",
       "  </thead>\n",
       "  <tbody>\n",
       "    <tr>\n",
       "      <th>0</th>\n",
       "      <td>(CREMA)</td>\n",
       "      <td>(HUEVO)</td>\n",
       "      <td>66.67%</td>\n",
       "      <td>100.00%</td>\n",
       "      <td>100.00%</td>\n",
       "    </tr>\n",
       "    <tr>\n",
       "      <th>1</th>\n",
       "      <td>(HUEVO)</td>\n",
       "      <td>(CREMA)</td>\n",
       "      <td>66.67%</td>\n",
       "      <td>66.67%</td>\n",
       "      <td>100.00%</td>\n",
       "    </tr>\n",
       "    <tr>\n",
       "      <th>2</th>\n",
       "      <td>(LECHE)</td>\n",
       "      <td>(CREMA)</td>\n",
       "      <td>66.67%</td>\n",
       "      <td>66.67%</td>\n",
       "      <td>100.00%</td>\n",
       "    </tr>\n",
       "    <tr>\n",
       "      <th>3</th>\n",
       "      <td>(CREMA)</td>\n",
       "      <td>(LECHE)</td>\n",
       "      <td>66.67%</td>\n",
       "      <td>100.00%</td>\n",
       "      <td>100.00%</td>\n",
       "    </tr>\n",
       "    <tr>\n",
       "      <th>4</th>\n",
       "      <td>(LECHE)</td>\n",
       "      <td>(HUEVO)</td>\n",
       "      <td>100.00%</td>\n",
       "      <td>100.00%</td>\n",
       "      <td>100.00%</td>\n",
       "    </tr>\n",
       "    <tr>\n",
       "      <th>5</th>\n",
       "      <td>(HUEVO)</td>\n",
       "      <td>(LECHE)</td>\n",
       "      <td>100.00%</td>\n",
       "      <td>100.00%</td>\n",
       "      <td>100.00%</td>\n",
       "    </tr>\n",
       "    <tr>\n",
       "      <th>6</th>\n",
       "      <td>(PAN)</td>\n",
       "      <td>(HUEVO)</td>\n",
       "      <td>66.67%</td>\n",
       "      <td>100.00%</td>\n",
       "      <td>100.00%</td>\n",
       "    </tr>\n",
       "    <tr>\n",
       "      <th>7</th>\n",
       "      <td>(HUEVO)</td>\n",
       "      <td>(PAN)</td>\n",
       "      <td>66.67%</td>\n",
       "      <td>66.67%</td>\n",
       "      <td>100.00%</td>\n",
       "    </tr>\n",
       "    <tr>\n",
       "      <th>8</th>\n",
       "      <td>(LECHE)</td>\n",
       "      <td>(PAN)</td>\n",
       "      <td>66.67%</td>\n",
       "      <td>66.67%</td>\n",
       "      <td>100.00%</td>\n",
       "    </tr>\n",
       "    <tr>\n",
       "      <th>9</th>\n",
       "      <td>(PAN)</td>\n",
       "      <td>(LECHE)</td>\n",
       "      <td>66.67%</td>\n",
       "      <td>100.00%</td>\n",
       "      <td>100.00%</td>\n",
       "    </tr>\n",
       "    <tr>\n",
       "      <th>10</th>\n",
       "      <td>(LECHE, CREMA)</td>\n",
       "      <td>(HUEVO)</td>\n",
       "      <td>66.67%</td>\n",
       "      <td>100.00%</td>\n",
       "      <td>100.00%</td>\n",
       "    </tr>\n",
       "    <tr>\n",
       "      <th>11</th>\n",
       "      <td>(LECHE, HUEVO)</td>\n",
       "      <td>(CREMA)</td>\n",
       "      <td>66.67%</td>\n",
       "      <td>66.67%</td>\n",
       "      <td>100.00%</td>\n",
       "    </tr>\n",
       "    <tr>\n",
       "      <th>12</th>\n",
       "      <td>(CREMA, HUEVO)</td>\n",
       "      <td>(LECHE)</td>\n",
       "      <td>66.67%</td>\n",
       "      <td>100.00%</td>\n",
       "      <td>100.00%</td>\n",
       "    </tr>\n",
       "    <tr>\n",
       "      <th>13</th>\n",
       "      <td>(LECHE)</td>\n",
       "      <td>(CREMA, HUEVO)</td>\n",
       "      <td>66.67%</td>\n",
       "      <td>66.67%</td>\n",
       "      <td>100.00%</td>\n",
       "    </tr>\n",
       "    <tr>\n",
       "      <th>14</th>\n",
       "      <td>(CREMA)</td>\n",
       "      <td>(LECHE, HUEVO)</td>\n",
       "      <td>66.67%</td>\n",
       "      <td>100.00%</td>\n",
       "      <td>100.00%</td>\n",
       "    </tr>\n",
       "    <tr>\n",
       "      <th>15</th>\n",
       "      <td>(HUEVO)</td>\n",
       "      <td>(LECHE, CREMA)</td>\n",
       "      <td>66.67%</td>\n",
       "      <td>66.67%</td>\n",
       "      <td>100.00%</td>\n",
       "    </tr>\n",
       "    <tr>\n",
       "      <th>16</th>\n",
       "      <td>(LECHE, PAN)</td>\n",
       "      <td>(HUEVO)</td>\n",
       "      <td>66.67%</td>\n",
       "      <td>100.00%</td>\n",
       "      <td>100.00%</td>\n",
       "    </tr>\n",
       "    <tr>\n",
       "      <th>17</th>\n",
       "      <td>(LECHE, HUEVO)</td>\n",
       "      <td>(PAN)</td>\n",
       "      <td>66.67%</td>\n",
       "      <td>66.67%</td>\n",
       "      <td>100.00%</td>\n",
       "    </tr>\n",
       "    <tr>\n",
       "      <th>18</th>\n",
       "      <td>(PAN, HUEVO)</td>\n",
       "      <td>(LECHE)</td>\n",
       "      <td>66.67%</td>\n",
       "      <td>100.00%</td>\n",
       "      <td>100.00%</td>\n",
       "    </tr>\n",
       "    <tr>\n",
       "      <th>19</th>\n",
       "      <td>(LECHE)</td>\n",
       "      <td>(PAN, HUEVO)</td>\n",
       "      <td>66.67%</td>\n",
       "      <td>66.67%</td>\n",
       "      <td>100.00%</td>\n",
       "    </tr>\n",
       "    <tr>\n",
       "      <th>20</th>\n",
       "      <td>(PAN)</td>\n",
       "      <td>(LECHE, HUEVO)</td>\n",
       "      <td>66.67%</td>\n",
       "      <td>100.00%</td>\n",
       "      <td>100.00%</td>\n",
       "    </tr>\n",
       "    <tr>\n",
       "      <th>21</th>\n",
       "      <td>(HUEVO)</td>\n",
       "      <td>(LECHE, PAN)</td>\n",
       "      <td>66.67%</td>\n",
       "      <td>66.67%</td>\n",
       "      <td>100.00%</td>\n",
       "    </tr>\n",
       "  </tbody>\n",
       "</table>\n",
       "</div>"
      ],
      "text/plain": [
       "       antecedents     consequents  support confidence     lift\n",
       "0          (CREMA)         (HUEVO)   66.67%    100.00%  100.00%\n",
       "1          (HUEVO)         (CREMA)   66.67%     66.67%  100.00%\n",
       "2          (LECHE)         (CREMA)   66.67%     66.67%  100.00%\n",
       "3          (CREMA)         (LECHE)   66.67%    100.00%  100.00%\n",
       "4          (LECHE)         (HUEVO)  100.00%    100.00%  100.00%\n",
       "5          (HUEVO)         (LECHE)  100.00%    100.00%  100.00%\n",
       "6            (PAN)         (HUEVO)   66.67%    100.00%  100.00%\n",
       "7          (HUEVO)           (PAN)   66.67%     66.67%  100.00%\n",
       "8          (LECHE)           (PAN)   66.67%     66.67%  100.00%\n",
       "9            (PAN)         (LECHE)   66.67%    100.00%  100.00%\n",
       "10  (LECHE, CREMA)         (HUEVO)   66.67%    100.00%  100.00%\n",
       "11  (LECHE, HUEVO)         (CREMA)   66.67%     66.67%  100.00%\n",
       "12  (CREMA, HUEVO)         (LECHE)   66.67%    100.00%  100.00%\n",
       "13         (LECHE)  (CREMA, HUEVO)   66.67%     66.67%  100.00%\n",
       "14         (CREMA)  (LECHE, HUEVO)   66.67%    100.00%  100.00%\n",
       "15         (HUEVO)  (LECHE, CREMA)   66.67%     66.67%  100.00%\n",
       "16    (LECHE, PAN)         (HUEVO)   66.67%    100.00%  100.00%\n",
       "17  (LECHE, HUEVO)           (PAN)   66.67%     66.67%  100.00%\n",
       "18    (PAN, HUEVO)         (LECHE)   66.67%    100.00%  100.00%\n",
       "19         (LECHE)    (PAN, HUEVO)   66.67%     66.67%  100.00%\n",
       "20           (PAN)  (LECHE, HUEVO)   66.67%    100.00%  100.00%\n",
       "21         (HUEVO)    (LECHE, PAN)   66.67%     66.67%  100.00%"
      ]
     },
     "execution_count": 51,
     "metadata": {},
     "output_type": "execute_result"
    }
   ],
   "source": [
    "# Convertir los valores de soporte y confianza a porcentaje y añadir el símbolo '%'\n",
    "# Esto hace que los resultados sean más fáciles de interpretar\n",
    "reglas['support'] = (reglas['support']*100).apply(lambda x: f'{x:.2f}%')\n",
    "reglas['confidence'] = (reglas['confidence']*100).apply(lambda x: f'{x:.2f}%')\n",
    "reglas['lift'] = (reglas['lift']*100).apply(lambda x: f'{x:.2f}%')\n",
    "\n",
    "# Mostrar solo las columnas deseadas\n",
    "# Estas columnas contienen la información más relevante sobre las reglas de asociación\n",
    "reglas = reglas[['antecedents', 'consequents', 'support', 'confidence', 'lift' ]]\n",
    "reglas"
   ]
  }
 ],
 "metadata": {
  "kernelspec": {
   "display_name": "Python 3 (ipykernel)",
   "language": "python",
   "name": "python3"
  },
  "language_info": {
   "codemirror_mode": {
    "name": "ipython",
    "version": 3
   },
   "file_extension": ".py",
   "mimetype": "text/x-python",
   "name": "python",
   "nbconvert_exporter": "python",
   "pygments_lexer": "ipython3",
   "version": "3.11.5"
  }
 },
 "nbformat": 4,
 "nbformat_minor": 5
}
